{
  "nbformat": 4,
  "nbformat_minor": 0,
  "metadata": {
    "colab": {
      "provenance": [],
      "authorship_tag": "ABX9TyOgGD1NMVmuzr17HH+vBaR+",
      "include_colab_link": true
    },
    "kernelspec": {
      "name": "python3",
      "display_name": "Python 3"
    },
    "language_info": {
      "name": "python"
    }
  },
  "cells": [
    {
      "cell_type": "markdown",
      "metadata": {
        "id": "view-in-github",
        "colab_type": "text"
      },
      "source": [
        "<a href=\"https://colab.research.google.com/github/errorloadingusername123/Learn_pytorch/blob/main/NeuralNetwork%26CNN.ipynb\" target=\"_parent\"><img src=\"https://colab.research.google.com/assets/colab-badge.svg\" alt=\"Open In Colab\"/></a>"
      ]
    },
    {
      "cell_type": "code",
      "execution_count": 290,
      "metadata": {
        "id": "HEk7Zlg-boWp"
      },
      "outputs": [],
      "source": [
        "import torch\n",
        "import torch.nn as nn\n",
        "import torch.optim as optim\n",
        "from torch.utils.data import DataLoader\n",
        "import torchvision.datasets as datasets\n",
        "import torch.nn.functional as F\n",
        "import torchvision.transforms as transforms"
      ]
    },
    {
      "cell_type": "code",
      "source": [
        "               #NORMAL NEURAL NETWORK\n",
        "# class NN(nn.Module):\n",
        "#   def __init__(self, input_size, num_classes):\n",
        "#     super(NN, self).__init__()\n",
        "#     self.fc1 = nn.Linear(input_size, 50)\n",
        "#     self.fc2 = nn.Linear(50, num_classes)\n",
        "\n",
        "#   def forward(self, x):\n",
        "#     x = F.relu(self.fc1(x))\n",
        "#     # print(x.size())\n",
        "#     x = self.fc2(x)\n",
        "#     # print(x.size())\n",
        "#     return x"
      ],
      "metadata": {
        "id": "GlUI8W3TcLwG"
      },
      "execution_count": 291,
      "outputs": []
    },
    {
      "cell_type": "code",
      "source": [
        "              #CREATE SIMPLE CNN\n",
        "class CNN(nn.Module):\n",
        "  def __init__(self, input_size = 1, num_classes = 10):\n",
        "    super(CNN, self).__init__()\n",
        "    self.conv1 = nn.Conv2d(in_channels = 1, out_channels = 8, kernel_size = 3, stride = 1, padding = 1) #same convolution\n",
        "    self.pool = nn.MaxPool2d(kernel_size = 2, stride = 2)\n",
        "    self.conv2 = nn.Conv2d(in_channels = 8, out_channels = 16, kernel_size = 3, stride = 1, padding = 1)\n",
        "    self.fc1 = nn.Linear(16*7*7,out_features = num_classes)\n",
        "\n",
        "  def forward(self, x): #Input Shape: [batch_size=1, channels=1, height=28, width=28]\n",
        "    x = F.relu(self.conv1(x))# (1,1,28,28) -> (1,8,28,28)\n",
        "    x = self.pool(x) #(1,8,28,28) -> (1,8,14,14)\n",
        "    x = F.relu(self.conv2(x)) # (1,8,14,14) -> (1,16,14,14)\n",
        "    x = self.pool(x) # (1,16,14,14) -> (1,16,7,7)\n",
        "    x = x.reshape(x.shape[0], -1) #flattens to [batch_size, features] (1,16,7,7) -> (1,786)\n",
        "    x = self.fc1(x) #fully connected layer mapping to 10 outputs (1,16*7*7) -> (1,10)\n",
        "    return x\n"
      ],
      "metadata": {
        "id": "fAFmuch5z2jg"
      },
      "execution_count": 292,
      "outputs": []
    },
    {
      "cell_type": "code",
      "source": [
        "#model.state_dict()"
      ],
      "metadata": {
        "id": "dsuJNXZ87j5U"
      },
      "execution_count": 293,
      "outputs": []
    },
    {
      "cell_type": "code",
      "source": [
        "model = CNN()\n",
        "x = torch.randn(64, 1, 28, 28)\n",
        "print(model(x).shape)\n"
      ],
      "metadata": {
        "colab": {
          "base_uri": "https://localhost:8080/"
        },
        "id": "_ubpqgsULTDG",
        "outputId": "c9b71423-fa17-461c-98b5-cb9e44fe0a27"
      },
      "execution_count": 294,
      "outputs": [
        {
          "output_type": "stream",
          "name": "stdout",
          "text": [
            "torch.Size([64, 10])\n"
          ]
        }
      ]
    },
    {
      "cell_type": "code",
      "source": [
        "           #Testing conv2d layer\n",
        "           #1: Weight times input data\n",
        "           #2: one colour channel image into 8 colour images.\n",
        "images = torch.rand(32, 1, 28, 28)\n",
        "test_image = images[0]\n",
        "\n",
        "conv_layer1 = nn.Conv2d(in_channels = 1, #greyscale black-white\n",
        "                       out_channels = 8,\n",
        "                       kernel_size = 3,\n",
        "                       stride = 1,\n",
        "                       padding = 1)\n",
        "conv_output = conv_layer1(test_image)\n",
        "conv_output.shape"
      ],
      "metadata": {
        "colab": {
          "base_uri": "https://localhost:8080/"
        },
        "id": "fwcvpVYc7jN-",
        "outputId": "eb554b59-2fd7-4a67-e13e-6a8ef8c67b1d"
      },
      "execution_count": 295,
      "outputs": [
        {
          "output_type": "execute_result",
          "data": {
            "text/plain": [
              "torch.Size([8, 28, 28])"
            ]
          },
          "metadata": {},
          "execution_count": 295
        }
      ]
    },
    {
      "cell_type": "code",
      "source": [
        "            #Testing maxpool2d layer\n",
        "            #1: Max of some pixels\n",
        "images = torch.rand(32, 1, 28, 28)\n",
        "test_image = images[0]\n",
        "\n",
        "max_pool_layer = nn.MaxPool2d(kernel_size = 2, stride = 2)\n",
        "pool_output = max_pool_layer(test_image)\n",
        "pool_output.shape"
      ],
      "metadata": {
        "colab": {
          "base_uri": "https://localhost:8080/"
        },
        "id": "UG8CcGW2_J49",
        "outputId": "d3e40287-4de4-4c96-d425-b6892a0549ac"
      },
      "execution_count": 296,
      "outputs": [
        {
          "output_type": "execute_result",
          "data": {
            "text/plain": [
              "torch.Size([1, 14, 14])"
            ]
          },
          "metadata": {},
          "execution_count": 296
        }
      ]
    },
    {
      "cell_type": "code",
      "source": [
        "# Print out original image shape without and with unsqueezed dimension\n",
        "print(f\"Test image original shape: {test_image.shape}\")\n",
        "print(f\"Test image with unsqueezed dimension: {test_image.unsqueeze(dim=0).shape}\")\n",
        "\n",
        "# Create a sample nn.MaxPoo2d() layer\n",
        "\n",
        "# Pass data through just the conv_layer\n",
        "test_image_through_conv = conv_layer(test_image)\n",
        "print(f\"Shape after going through conv_layer(): {test_image_through_conv.shape}\")\n",
        "\n",
        "# Pass data through the max pool layer\n",
        "test_image_through_conv_and_max_pool = max_pool_layer(test_image_through_conv)\n",
        "print(f\"Shape after going through conv_layer() and max_pool_layer(): {test_image_through_conv_and_max_pool.shape}\")"
      ],
      "metadata": {
        "colab": {
          "base_uri": "https://localhost:8080/"
        },
        "id": "_KE6s9eCEoKV",
        "outputId": "282441f0-834f-4dcd-bae6-d71c11131cd3"
      },
      "execution_count": 297,
      "outputs": [
        {
          "output_type": "stream",
          "name": "stdout",
          "text": [
            "Test image original shape: torch.Size([1, 28, 28])\n",
            "Test image with unsqueezed dimension: torch.Size([1, 1, 28, 28])\n",
            "Shape after going through conv_layer(): torch.Size([8, 28, 28])\n",
            "Shape after going through conv_layer() and max_pool_layer(): torch.Size([8, 14, 14])\n"
          ]
        }
      ]
    },
    {
      "cell_type": "code",
      "source": [
        "device = torch.device('cuda' if torch.cuda.is_available() else 'cpu')\n"
      ],
      "metadata": {
        "id": "DlNRzPA2feVQ"
      },
      "execution_count": 298,
      "outputs": []
    },
    {
      "cell_type": "code",
      "source": [
        "input_size = 784\n",
        "num_classes = 10\n",
        "learning_rate = 0.001\n",
        "batch_size = 32\n",
        "num_epochs = 4"
      ],
      "metadata": {
        "id": "2FvlX3KvgGsJ"
      },
      "execution_count": 299,
      "outputs": []
    },
    {
      "cell_type": "code",
      "source": [
        "train_dataset = datasets.MNIST(root='dataset/', train=True, transform=transforms.ToTensor(), download=True)\n",
        "train_loader = DataLoader(dataset=train_dataset, batch_size=batch_size, shuffle=True)\n",
        "\n",
        "test_dataset = datasets.MNIST(root='dataset/', train=False, transform=transforms.ToTensor(), download=True)\n",
        "test_loader = DataLoader(dataset=test_dataset, batch_size=batch_size, shuffle=True)"
      ],
      "metadata": {
        "id": "0430U5ifgS6M"
      },
      "execution_count": 300,
      "outputs": []
    },
    {
      "cell_type": "code",
      "source": [],
      "metadata": {
        "id": "Yz_CnjPKHdjS"
      },
      "execution_count": 300,
      "outputs": []
    },
    {
      "cell_type": "code",
      "source": [
        "model = NN(input_size=input_size, num_classes=num_classes).to(device)"
      ],
      "metadata": {
        "id": "pzaGcvpegbRd"
      },
      "execution_count": 301,
      "outputs": []
    },
    {
      "cell_type": "code",
      "source": [
        "criterion = nn.CrossEntropyLoss()\n",
        "optimizer = optim.Adam(model.parameters(), lr=learning_rate)"
      ],
      "metadata": {
        "id": "EAOJulnfg3SG"
      },
      "execution_count": 302,
      "outputs": []
    },
    {
      "cell_type": "code",
      "source": [
        "for epoch in range(num_epochs):\n",
        "  for data, targets in train_loader:\n",
        "    data = data.to(device=device)\n",
        "    targets = targets.to(device=device)\n",
        "\n",
        "    data = data.reshape(data.shape[0], -1)\n",
        "\n",
        "\n",
        "    scores = model(data)\n",
        "    loss = criterion(scores, targets)\n",
        "\n",
        "    optimizer.zero_grad()\n",
        "    loss.backward()\n",
        "\n",
        "    optimizer.step()"
      ],
      "metadata": {
        "id": "ePQ26kk3g_IY"
      },
      "execution_count": 303,
      "outputs": []
    },
    {
      "cell_type": "code",
      "source": [
        "def check_accuracy(loader, model):\n",
        "  if loader.dataset.train:\n",
        "    print(\"Checking accuracy on training data\")\n",
        "  else:\n",
        "    print(\"Checking accuracy on test data\")\n",
        "  num_correct = 0\n",
        "  num_samples = 0\n",
        "  model.eval()\n",
        "\n",
        "  with torch.no_grad():\n",
        "    for x, y in loader:\n",
        "      x = x.to(device = device)\n",
        "      x.size()\n",
        "      y = y.to(device = device) #64x1  matrix\n",
        "      x = x.reshape(x.shape[0], -1)\n",
        "\n",
        "      scores = model(x) #64 x 10 matrix\n",
        "      _, predictions = scores.max(1)\n",
        "      num_correct += (predictions == y).sum()\n",
        "      num_samples += predictions.size(0)\n",
        "\n",
        "    print(f'Got {num_correct} / {num_samples} with accuracy {float(num_correct)/float(num_samples)*100:.2f}')\n",
        "\n",
        "  model.train()\n",
        "check_accuracy(train_loader, model)\n",
        "check_accuracy(test_loader, model)"
      ],
      "metadata": {
        "colab": {
          "base_uri": "https://localhost:8080/"
        },
        "id": "hnTnm261hEK6",
        "outputId": "9d8eef6f-f909-43ed-c32a-1b07bd57caf0"
      },
      "execution_count": 304,
      "outputs": [
        {
          "output_type": "stream",
          "name": "stdout",
          "text": [
            "Checking accuracy on training data\n",
            "Got 58450 / 60000 with accuracy 97.42\n",
            "Checking accuracy on test data\n",
            "Got 9657 / 10000 with accuracy 96.57\n"
          ]
        }
      ]
    },
    {
      "cell_type": "code",
      "source": [],
      "metadata": {
        "id": "QGLupvmiG7Od"
      },
      "execution_count": 304,
      "outputs": []
    }
  ]
}